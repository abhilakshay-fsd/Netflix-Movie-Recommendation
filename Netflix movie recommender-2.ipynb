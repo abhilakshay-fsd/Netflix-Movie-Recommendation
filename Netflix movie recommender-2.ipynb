{
 "cells": [
  {
   "cell_type": "markdown",
   "id": "e584c98d",
   "metadata": {},
   "source": [
    "### 1. EDA using Pandas"
   ]
  },
  {
   "cell_type": "markdown",
   "id": "cd1f4202",
   "metadata": {},
   "source": [
    "__Importing library__"
   ]
  },
  {
   "cell_type": "code",
   "execution_count": 87,
   "id": "d2d3e986",
   "metadata": {},
   "outputs": [],
   "source": [
    "import pandas as pd"
   ]
  },
  {
   "cell_type": "markdown",
   "id": "3d0ae76a",
   "metadata": {},
   "source": [
    "__Reading the dataset__"
   ]
  },
  {
   "cell_type": "code",
   "execution_count": 88,
   "id": "1777c4bb",
   "metadata": {},
   "outputs": [],
   "source": [
    "df = pd.read_csv(\"dataset.csv\")"
   ]
  },
  {
   "cell_type": "markdown",
   "id": "1863bd0b",
   "metadata": {},
   "source": [
    "__Checking the data types__"
   ]
  },
  {
   "cell_type": "code",
   "execution_count": 89,
   "id": "c6efb23c",
   "metadata": {},
   "outputs": [
    {
     "data": {
      "text/plain": [
       "id                     int64\n",
       "title                 object\n",
       "genre                 object\n",
       "original_language     object\n",
       "overview              object\n",
       "popularity           float64\n",
       "release_date          object\n",
       "vote_average         float64\n",
       "vote_count             int64\n",
       "dtype: object"
      ]
     },
     "execution_count": 89,
     "metadata": {},
     "output_type": "execute_result"
    }
   ],
   "source": [
    "df.dtypes"
   ]
  },
  {
   "cell_type": "markdown",
   "id": "6f6a9b39",
   "metadata": {},
   "source": [
    "__Checking the data__"
   ]
  },
  {
   "cell_type": "code",
   "execution_count": 90,
   "id": "2bedc78e",
   "metadata": {},
   "outputs": [
    {
     "data": {
      "text/html": [
       "<div>\n",
       "<style scoped>\n",
       "    .dataframe tbody tr th:only-of-type {\n",
       "        vertical-align: middle;\n",
       "    }\n",
       "\n",
       "    .dataframe tbody tr th {\n",
       "        vertical-align: top;\n",
       "    }\n",
       "\n",
       "    .dataframe thead th {\n",
       "        text-align: right;\n",
       "    }\n",
       "</style>\n",
       "<table border=\"1\" class=\"dataframe\">\n",
       "  <thead>\n",
       "    <tr style=\"text-align: right;\">\n",
       "      <th></th>\n",
       "      <th>id</th>\n",
       "      <th>title</th>\n",
       "      <th>genre</th>\n",
       "      <th>original_language</th>\n",
       "      <th>overview</th>\n",
       "      <th>popularity</th>\n",
       "      <th>release_date</th>\n",
       "      <th>vote_average</th>\n",
       "      <th>vote_count</th>\n",
       "    </tr>\n",
       "  </thead>\n",
       "  <tbody>\n",
       "    <tr>\n",
       "      <th>0</th>\n",
       "      <td>278</td>\n",
       "      <td>The Shawshank Redemption</td>\n",
       "      <td>Drama,Crime</td>\n",
       "      <td>en</td>\n",
       "      <td>Framed in the 1940s for the double murder of h...</td>\n",
       "      <td>94.075</td>\n",
       "      <td>1994-09-23</td>\n",
       "      <td>8.7</td>\n",
       "      <td>21862</td>\n",
       "    </tr>\n",
       "    <tr>\n",
       "      <th>1</th>\n",
       "      <td>19404</td>\n",
       "      <td>Dilwale Dulhania Le Jayenge</td>\n",
       "      <td>Comedy,Drama,Romance</td>\n",
       "      <td>hi</td>\n",
       "      <td>Raj is a rich, carefree, happy-go-lucky second...</td>\n",
       "      <td>25.408</td>\n",
       "      <td>1995-10-19</td>\n",
       "      <td>8.7</td>\n",
       "      <td>3731</td>\n",
       "    </tr>\n",
       "    <tr>\n",
       "      <th>2</th>\n",
       "      <td>238</td>\n",
       "      <td>The Godfather</td>\n",
       "      <td>Drama,Crime</td>\n",
       "      <td>en</td>\n",
       "      <td>Spanning the years 1945 to 1955, a chronicle o...</td>\n",
       "      <td>90.585</td>\n",
       "      <td>1972-03-14</td>\n",
       "      <td>8.7</td>\n",
       "      <td>16280</td>\n",
       "    </tr>\n",
       "    <tr>\n",
       "      <th>3</th>\n",
       "      <td>424</td>\n",
       "      <td>Schindler's List</td>\n",
       "      <td>Drama,History,War</td>\n",
       "      <td>en</td>\n",
       "      <td>The true story of how businessman Oskar Schind...</td>\n",
       "      <td>44.761</td>\n",
       "      <td>1993-12-15</td>\n",
       "      <td>8.6</td>\n",
       "      <td>12959</td>\n",
       "    </tr>\n",
       "    <tr>\n",
       "      <th>4</th>\n",
       "      <td>240</td>\n",
       "      <td>The Godfather: Part II</td>\n",
       "      <td>Drama,Crime</td>\n",
       "      <td>en</td>\n",
       "      <td>In the continuing saga of the Corleone crime f...</td>\n",
       "      <td>57.749</td>\n",
       "      <td>1974-12-20</td>\n",
       "      <td>8.6</td>\n",
       "      <td>9811</td>\n",
       "    </tr>\n",
       "  </tbody>\n",
       "</table>\n",
       "</div>"
      ],
      "text/plain": [
       "      id                        title                 genre original_language  \\\n",
       "0    278     The Shawshank Redemption           Drama,Crime                en   \n",
       "1  19404  Dilwale Dulhania Le Jayenge  Comedy,Drama,Romance                hi   \n",
       "2    238                The Godfather           Drama,Crime                en   \n",
       "3    424             Schindler's List     Drama,History,War                en   \n",
       "4    240       The Godfather: Part II           Drama,Crime                en   \n",
       "\n",
       "                                            overview  popularity release_date  \\\n",
       "0  Framed in the 1940s for the double murder of h...      94.075   1994-09-23   \n",
       "1  Raj is a rich, carefree, happy-go-lucky second...      25.408   1995-10-19   \n",
       "2  Spanning the years 1945 to 1955, a chronicle o...      90.585   1972-03-14   \n",
       "3  The true story of how businessman Oskar Schind...      44.761   1993-12-15   \n",
       "4  In the continuing saga of the Corleone crime f...      57.749   1974-12-20   \n",
       "\n",
       "   vote_average  vote_count  \n",
       "0           8.7       21862  \n",
       "1           8.7        3731  \n",
       "2           8.7       16280  \n",
       "3           8.6       12959  \n",
       "4           8.6        9811  "
      ]
     },
     "execution_count": 90,
     "metadata": {},
     "output_type": "execute_result"
    }
   ],
   "source": [
    "df.head()"
   ]
  },
  {
   "cell_type": "markdown",
   "id": "b7d09977",
   "metadata": {},
   "source": [
    "__Summary of data__"
   ]
  },
  {
   "cell_type": "code",
   "execution_count": 91,
   "id": "10cb8fe7",
   "metadata": {},
   "outputs": [
    {
     "data": {
      "text/html": [
       "<div>\n",
       "<style scoped>\n",
       "    .dataframe tbody tr th:only-of-type {\n",
       "        vertical-align: middle;\n",
       "    }\n",
       "\n",
       "    .dataframe tbody tr th {\n",
       "        vertical-align: top;\n",
       "    }\n",
       "\n",
       "    .dataframe thead th {\n",
       "        text-align: right;\n",
       "    }\n",
       "</style>\n",
       "<table border=\"1\" class=\"dataframe\">\n",
       "  <thead>\n",
       "    <tr style=\"text-align: right;\">\n",
       "      <th></th>\n",
       "      <th>id</th>\n",
       "      <th>popularity</th>\n",
       "      <th>vote_average</th>\n",
       "      <th>vote_count</th>\n",
       "    </tr>\n",
       "  </thead>\n",
       "  <tbody>\n",
       "    <tr>\n",
       "      <th>count</th>\n",
       "      <td>10000.000000</td>\n",
       "      <td>10000.000000</td>\n",
       "      <td>10000.000000</td>\n",
       "      <td>10000.000000</td>\n",
       "    </tr>\n",
       "    <tr>\n",
       "      <th>mean</th>\n",
       "      <td>161243.505000</td>\n",
       "      <td>34.697267</td>\n",
       "      <td>6.621150</td>\n",
       "      <td>1547.309400</td>\n",
       "    </tr>\n",
       "    <tr>\n",
       "      <th>std</th>\n",
       "      <td>211422.046043</td>\n",
       "      <td>211.684175</td>\n",
       "      <td>0.766231</td>\n",
       "      <td>2648.295789</td>\n",
       "    </tr>\n",
       "    <tr>\n",
       "      <th>min</th>\n",
       "      <td>5.000000</td>\n",
       "      <td>0.600000</td>\n",
       "      <td>4.600000</td>\n",
       "      <td>200.000000</td>\n",
       "    </tr>\n",
       "    <tr>\n",
       "      <th>25%</th>\n",
       "      <td>10127.750000</td>\n",
       "      <td>9.154750</td>\n",
       "      <td>6.100000</td>\n",
       "      <td>315.000000</td>\n",
       "    </tr>\n",
       "    <tr>\n",
       "      <th>50%</th>\n",
       "      <td>30002.500000</td>\n",
       "      <td>13.637500</td>\n",
       "      <td>6.600000</td>\n",
       "      <td>583.500000</td>\n",
       "    </tr>\n",
       "    <tr>\n",
       "      <th>75%</th>\n",
       "      <td>310133.500000</td>\n",
       "      <td>25.651250</td>\n",
       "      <td>7.200000</td>\n",
       "      <td>1460.000000</td>\n",
       "    </tr>\n",
       "    <tr>\n",
       "      <th>max</th>\n",
       "      <td>934761.000000</td>\n",
       "      <td>10436.917000</td>\n",
       "      <td>8.700000</td>\n",
       "      <td>31917.000000</td>\n",
       "    </tr>\n",
       "  </tbody>\n",
       "</table>\n",
       "</div>"
      ],
      "text/plain": [
       "                  id    popularity  vote_average    vote_count\n",
       "count   10000.000000  10000.000000  10000.000000  10000.000000\n",
       "mean   161243.505000     34.697267      6.621150   1547.309400\n",
       "std    211422.046043    211.684175      0.766231   2648.295789\n",
       "min         5.000000      0.600000      4.600000    200.000000\n",
       "25%     10127.750000      9.154750      6.100000    315.000000\n",
       "50%     30002.500000     13.637500      6.600000    583.500000\n",
       "75%    310133.500000     25.651250      7.200000   1460.000000\n",
       "max    934761.000000  10436.917000      8.700000  31917.000000"
      ]
     },
     "execution_count": 91,
     "metadata": {},
     "output_type": "execute_result"
    }
   ],
   "source": [
    "df.describe()"
   ]
  },
  {
   "cell_type": "code",
   "execution_count": null,
   "id": "8749aee8",
   "metadata": {},
   "outputs": [],
   "source": []
  },
  {
   "cell_type": "code",
   "execution_count": null,
   "id": "e31f53fb",
   "metadata": {},
   "outputs": [],
   "source": []
  },
  {
   "cell_type": "markdown",
   "id": "f08e853c",
   "metadata": {},
   "source": [
    "### 2. EDA using Pyspark"
   ]
  },
  {
   "cell_type": "markdown",
   "id": "e98c9743",
   "metadata": {},
   "source": [
    "__Importing Necessary Libraries__"
   ]
  },
  {
   "cell_type": "code",
   "execution_count": 92,
   "id": "afa5aed3",
   "metadata": {},
   "outputs": [],
   "source": [
    "import os, sys\n",
    "from pyspark.sql import SparkSession\n",
    "import pyspark.sql.functions as fun"
   ]
  },
  {
   "cell_type": "markdown",
   "id": "1ab2eb0f",
   "metadata": {},
   "source": [
    "__Creating a Spark Session__"
   ]
  },
  {
   "cell_type": "code",
   "execution_count": 93,
   "id": "c1377ff0",
   "metadata": {},
   "outputs": [],
   "source": [
    "spark = SparkSession.builder.master(\"local[2]\").appName(\"Movie\").getOrCreate()"
   ]
  },
  {
   "cell_type": "code",
   "execution_count": 94,
   "id": "670612cc",
   "metadata": {},
   "outputs": [
    {
     "data": {
      "text/html": [
       "\n",
       "            <div>\n",
       "                <p><b>SparkSession - in-memory</b></p>\n",
       "                \n",
       "        <div>\n",
       "            <p><b>SparkContext</b></p>\n",
       "\n",
       "            <p><a href=\"http://192.168.1.12:4040\">Spark UI</a></p>\n",
       "\n",
       "            <dl>\n",
       "              <dt>Version</dt>\n",
       "                <dd><code>v3.4.1</code></dd>\n",
       "              <dt>Master</dt>\n",
       "                <dd><code>local[2]</code></dd>\n",
       "              <dt>AppName</dt>\n",
       "                <dd><code>Movie</code></dd>\n",
       "            </dl>\n",
       "        </div>\n",
       "        \n",
       "            </div>\n",
       "        "
      ],
      "text/plain": [
       "<pyspark.sql.session.SparkSession at 0x7f8991d531f0>"
      ]
     },
     "execution_count": 94,
     "metadata": {},
     "output_type": "execute_result"
    }
   ],
   "source": [
    "spark"
   ]
  },
  {
   "cell_type": "markdown",
   "id": "f8b66647",
   "metadata": {},
   "source": [
    "__Reading the csv file__"
   ]
  },
  {
   "cell_type": "code",
   "execution_count": 95,
   "id": "bb17b3dc",
   "metadata": {},
   "outputs": [],
   "source": [
    "movies = spark.read.csv(\"dataset.csv\", header=True)"
   ]
  },
  {
   "cell_type": "markdown",
   "id": "217d7e7e",
   "metadata": {},
   "source": [
    "__Checking the Schema__"
   ]
  },
  {
   "cell_type": "code",
   "execution_count": 96,
   "id": "cb3c2554",
   "metadata": {},
   "outputs": [
    {
     "name": "stdout",
     "output_type": "stream",
     "text": [
      "root\n",
      " |-- id: string (nullable = true)\n",
      " |-- title: string (nullable = true)\n",
      " |-- genre: string (nullable = true)\n",
      " |-- original_language: string (nullable = true)\n",
      " |-- overview: string (nullable = true)\n",
      " |-- popularity: string (nullable = true)\n",
      " |-- release_date: string (nullable = true)\n",
      " |-- vote_average: string (nullable = true)\n",
      " |-- vote_count: string (nullable = true)\n",
      "\n"
     ]
    }
   ],
   "source": [
    "movies.printSchema()"
   ]
  },
  {
   "cell_type": "markdown",
   "id": "14343a76",
   "metadata": {},
   "source": [
    "__Data Frame__"
   ]
  },
  {
   "cell_type": "code",
   "execution_count": 97,
   "id": "90be2215",
   "metadata": {},
   "outputs": [
    {
     "name": "stdout",
     "output_type": "stream",
     "text": [
      "+------+--------------------+--------------------+-----------------+--------------------+----------+------------+------------+----------+\n",
      "|    id|               title|               genre|original_language|            overview|popularity|release_date|vote_average|vote_count|\n",
      "+------+--------------------+--------------------+-----------------+--------------------+----------+------------+------------+----------+\n",
      "|   278|The Shawshank Red...|         Drama,Crime|               en|Framed in the 194...|    94.075|  1994-09-23|         8.7|     21862|\n",
      "| 19404|Dilwale Dulhania ...|Comedy,Drama,Romance|               hi|Raj is a rich, ca...|    25.408|  1995-10-19|         8.7|      3731|\n",
      "|   238|       The Godfather|         Drama,Crime|               en|Spanning the year...|    90.585|  1972-03-14|         8.7|     16280|\n",
      "|   424|    Schindler's List|   Drama,History,War|               en|The true story of...|    44.761|  1993-12-15|         8.6|     12959|\n",
      "|   240|The Godfather: Pa...|         Drama,Crime|               en|In the continuing...|    57.749|  1974-12-20|         8.6|      9811|\n",
      "|667257|   Impossible Things|        Family,Drama|               es|Matilde is a woma...|    14.358|  2021-06-17|         8.6|       255|\n",
      "|   129|       Spirited Away|Animation,Family,...|               ja|A young girl, Chi...|    92.056|  2001-07-20|         8.5|     13093|\n",
      "|730154|      Your Eyes Tell|       Romance,Drama|               ja|A tragic accident...|    51.345|  2020-10-23|         8.5|       339|\n",
      "|372754|Dou kyu sei – Cla...|   Romance,Animation|               ja|Rihito Sajo, an h...|    14.285|  2016-02-20|         8.5|       239|\n",
      "|372058|          Your Name.|Romance,Animation...|               ja|High schoolers Mi...|    158.27|  2016-08-26|         8.5|      8895|\n",
      "|   389|        12 Angry Men|               Drama|               en|The defense and t...|    31.946|  1957-04-10|         8.5|      6533|\n",
      "|696374|   Gabriel's Inferno|             Romance|               en|An intriguing and...|    12.674|  2020-05-29|         8.5|      2262|\n",
      "|496243|            Parasite|Comedy,Thriller,D...|               ko|All unemployed, K...|    65.147|  2019-05-30|         8.5|     14036|\n",
      "|   497|      The Green Mile| Fantasy,Drama,Crime|               en|A supernatural ta...|    69.118|  1999-12-10|         8.5|     14162|\n",
      "|724089|Gabriel's Inferno...|             Romance|               en|Professor Gabriel...|    14.924|  2020-07-31|         8.5|      1420|\n",
      "|   155|     The Dark Knight|Drama,Action,Crim...|               en|Batman raises the...|     82.23|  2008-07-14|         8.5|     27925|\n",
      "|   429|The Good, the Bad...|             Western|               it|While the Civil W...|     47.73|  1966-12-23|         8.5|      6747|\n",
      "|   680|        Pulp Fiction|      Thriller,Crime|               en|A burger-loving h...|    67.224|  1994-09-10|         8.5|     23481|\n",
      "|   122|The Lord of the R...|Adventure,Fantasy...|               en|Aragorn is reveal...|   134.707|  2003-12-01|         8.5|     19844|\n",
      "|761053|Gabriel's Inferno...|      Romance,Comedy|               en|The final part of...|    47.608|  2020-11-19|         8.5|       977|\n",
      "+------+--------------------+--------------------+-----------------+--------------------+----------+------------+------------+----------+\n",
      "only showing top 20 rows\n",
      "\n"
     ]
    }
   ],
   "source": [
    "movies.show()"
   ]
  },
  {
   "cell_type": "markdown",
   "id": "353f7907",
   "metadata": {},
   "source": [
    "__Count of total rows and columns__"
   ]
  },
  {
   "cell_type": "code",
   "execution_count": 98,
   "id": "d5fa80fd",
   "metadata": {},
   "outputs": [
    {
     "data": {
      "text/plain": [
       "(10005, 9)"
      ]
     },
     "execution_count": 98,
     "metadata": {},
     "output_type": "execute_result"
    }
   ],
   "source": [
    "movies.count(), len(movies.columns)"
   ]
  },
  {
   "cell_type": "markdown",
   "id": "69e3f251",
   "metadata": {},
   "source": [
    "__Visualize the rating given by users__"
   ]
  },
  {
   "cell_type": "code",
   "execution_count": 134,
   "id": "944d6b8b",
   "metadata": {},
   "outputs": [
    {
     "data": {
      "text/plain": [
       "Text(0, 0.5, 'count of rating')"
      ]
     },
     "execution_count": 134,
     "metadata": {},
     "output_type": "execute_result"
    },
    {
     "data": {
      "image/png": "[encoded data removed]",
      "text/plain": [
       "<Figure size 1080x360 with 1 Axes>"
      ]
     },
     "metadata": {
      "needs_background": "light"
     },
     "output_type": "display_data"
    }
   ],
   "source": [
    "from matplotlib import pyplot as plt\n",
    "import seaborn as sns\n",
    "plt.figure(figsize=(15,5))\n",
    "sns.histplot(df['vote_average'])\n",
    "plt.title(\"Histogram plot of Rating\")\n",
    "plt.xlabel('rating')\n",
    "plt.ylabel('count of rating')\n",
    "#plt.xlim([1,10])"
   ]
  },
  {
   "cell_type": "markdown",
   "id": "3a61c8a4",
   "metadata": {},
   "source": [
    "The plot shows that most of the ratings lie between 4.5 and 8.5."
   ]
  },
  {
   "cell_type": "markdown",
   "id": "9df52e86",
   "metadata": {},
   "source": [
    "__Visualize the rating vs counts__"
   ]
  },
  {
   "cell_type": "code",
   "execution_count": 100,
   "id": "0fb4b748",
   "metadata": {},
   "outputs": [
    {
     "data": {
      "text/plain": [
       "<seaborn.axisgrid.JointGrid at 0x7f89a2d8b850>"
      ]
     },
     "execution_count": 100,
     "metadata": {},
     "output_type": "execute_result"
    },
    {
     "data": {
      "image/png": "[encoded data removed]",
      "text/plain": [
       "<Figure size 432x432 with 3 Axes>"
      ]
     },
     "metadata": {
      "needs_background": "light"
     },
     "output_type": "display_data"
    }
   ],
   "source": [
    "sns.jointplot(x='vote_average',y='vote_count',data=df,alpha=0.5)"
   ]
  },
  {
   "cell_type": "markdown",
   "id": "16a9c457",
   "metadata": {},
   "source": [
    " __Count of null values in each column__"
   ]
  },
  {
   "cell_type": "code",
   "execution_count": 101,
   "id": "da9e5b99",
   "metadata": {},
   "outputs": [
    {
     "name": "stdout",
     "output_type": "stream",
     "text": [
      "+---+-----+-----+-----------------+--------+----------+------------+------------+----------+\n",
      "| id|title|genre|original_language|overview|popularity|release_date|vote_average|vote_count|\n",
      "+---+-----+-----+-----------------+--------+----------+------------+------------+----------+\n",
      "|  0|    0|    3|                0|      13|         6|           6|           8|         8|\n",
      "+---+-----+-----+-----------------+--------+----------+------------+------------+----------+\n",
      "\n"
     ]
    }
   ],
   "source": [
    "movies.agg(*[fun.count(fun.when(fun.isnull(column), column)).alias(column) for column in movies.columns]).show()"
   ]
  },
  {
   "cell_type": "markdown",
   "id": "e9e0ff2c",
   "metadata": {},
   "source": [
    "__Summary of data__"
   ]
  },
  {
   "cell_type": "code",
   "execution_count": 102,
   "id": "2152ac7b",
   "metadata": {},
   "outputs": [
    {
     "name": "stderr",
     "output_type": "stream",
     "text": [
      "[Stage 31:>                                                         (0 + 1) / 1]\r"
     ]
    },
    {
     "name": "stdout",
     "output_type": "stream",
     "text": [
      "+-------+--------------------+--------------------+--------------------+--------------------+--------------------+--------------------+--------------------+--------------------+------------------+\n",
      "|summary|                  id|               title|               genre|   original_language|            overview|          popularity|        release_date|        vote_average|        vote_count|\n",
      "+-------+--------------------+--------------------+--------------------+--------------------+--------------------+--------------------+--------------------+--------------------+------------------+\n",
      "|  count|               10005|               10005|               10002|               10005|                9992|                9999|                9999|                9997|              9997|\n",
      "|   mean|          161243.505|  1172.9382272727273|                null|               6.994|              1383.0|   34.95272369243594|  38.651246376811606|   6.759508516568501|1514.8023986727917|\n",
      "| stddev|   211422.0460430182|   1683.674991272024|                null|  1.2636249443565128|                null|   215.7612362093659|   82.43083562040081|  2.6945619856197833|2610.9652400048653|\n",
      "|    min| In a Disney anim...| Bamberski attemp...| Pierre could bec...| good-looking Ben...| Anita. The owner...| \"\"Déjà vu\"\" and ...| \"\"Great Expectat...| \"\"Anya\"\" encount...|               \"\"L|\n",
      "|    max|                9997|            Æon Flux|    Western,Thriller|                  zh|“2048: Nowhere to...|” during the Amer...|” a deceased medi...|              96.467|               999|\n",
      "+-------+--------------------+--------------------+--------------------+--------------------+--------------------+--------------------+--------------------+--------------------+------------------+\n",
      "\n"
     ]
    },
    {
     "name": "stderr",
     "output_type": "stream",
     "text": [
      "                                                                                \r"
     ]
    }
   ],
   "source": [
    "movies.describe().show()"
   ]
  },
  {
   "cell_type": "markdown",
   "id": "9be8243f",
   "metadata": {},
   "source": [
    "__Displaying all the field present in data__"
   ]
  },
  {
   "cell_type": "code",
   "execution_count": 103,
   "id": "36f3009c",
   "metadata": {},
   "outputs": [
    {
     "name": "stdout",
     "output_type": "stream",
     "text": [
      "id\n",
      "title\n",
      "genre\n",
      "original_language\n",
      "overview\n",
      "popularity\n",
      "release_date\n",
      "vote_average\n",
      "vote_count\n"
     ]
    }
   ],
   "source": [
    "for field in movies.schema.fields:\n",
    "    print(field.name)"
   ]
  },
  {
   "cell_type": "markdown",
   "id": "51cf2fda",
   "metadata": {},
   "source": [
    "### 3. Feature Selection"
   ]
  },
  {
   "cell_type": "code",
   "execution_count": 104,
   "id": "32f14e4f",
   "metadata": {},
   "outputs": [],
   "source": [
    "movies = movies.select('id', 'title', 'genre', 'overview')"
   ]
  },
  {
   "cell_type": "markdown",
   "id": "b03942c0",
   "metadata": {},
   "source": [
    "__Dataset with selected features__"
   ]
  },
  {
   "cell_type": "code",
   "execution_count": 105,
   "id": "8a07f101",
   "metadata": {},
   "outputs": [
    {
     "name": "stdout",
     "output_type": "stream",
     "text": [
      "+------+--------------------+--------------------+--------------------+\n",
      "|    id|               title|               genre|            overview|\n",
      "+------+--------------------+--------------------+--------------------+\n",
      "|   278|The Shawshank Red...|         Drama,Crime|Framed in the 194...|\n",
      "| 19404|Dilwale Dulhania ...|Comedy,Drama,Romance|Raj is a rich, ca...|\n",
      "|   238|       The Godfather|         Drama,Crime|Spanning the year...|\n",
      "|   424|    Schindler's List|   Drama,History,War|The true story of...|\n",
      "|   240|The Godfather: Pa...|         Drama,Crime|In the continuing...|\n",
      "|667257|   Impossible Things|        Family,Drama|Matilde is a woma...|\n",
      "|   129|       Spirited Away|Animation,Family,...|A young girl, Chi...|\n",
      "|730154|      Your Eyes Tell|       Romance,Drama|A tragic accident...|\n",
      "|372754|Dou kyu sei – Cla...|   Romance,Animation|Rihito Sajo, an h...|\n",
      "|372058|          Your Name.|Romance,Animation...|High schoolers Mi...|\n",
      "|   389|        12 Angry Men|               Drama|The defense and t...|\n",
      "|696374|   Gabriel's Inferno|             Romance|An intriguing and...|\n",
      "|496243|            Parasite|Comedy,Thriller,D...|All unemployed, K...|\n",
      "|   497|      The Green Mile| Fantasy,Drama,Crime|A supernatural ta...|\n",
      "|724089|Gabriel's Inferno...|             Romance|Professor Gabriel...|\n",
      "|   155|     The Dark Knight|Drama,Action,Crim...|Batman raises the...|\n",
      "|   429|The Good, the Bad...|             Western|While the Civil W...|\n",
      "|   680|        Pulp Fiction|      Thriller,Crime|A burger-loving h...|\n",
      "|   122|The Lord of the R...|Adventure,Fantasy...|Aragorn is reveal...|\n",
      "|761053|Gabriel's Inferno...|      Romance,Comedy|The final part of...|\n",
      "+------+--------------------+--------------------+--------------------+\n",
      "only showing top 20 rows\n",
      "\n"
     ]
    }
   ],
   "source": [
    "movies.show()"
   ]
  },
  {
   "cell_type": "markdown",
   "id": "5436b6c3",
   "metadata": {},
   "source": [
    "__Counting null values in selected features__"
   ]
  },
  {
   "cell_type": "code",
   "execution_count": 106,
   "id": "dc039bf2",
   "metadata": {},
   "outputs": [
    {
     "name": "stdout",
     "output_type": "stream",
     "text": [
      "+---+-----+-----+--------+\n",
      "| id|title|genre|overview|\n",
      "+---+-----+-----+--------+\n",
      "|  0|    0|    3|      13|\n",
      "+---+-----+-----+--------+\n",
      "\n"
     ]
    }
   ],
   "source": [
    "movies.select([fun.count(fun.when(fun.col(columns).isNull(), columns)).alias(columns) for columns in movies.columns]).show()"
   ]
  },
  {
   "cell_type": "markdown",
   "id": "ced11eec",
   "metadata": {},
   "source": [
    "__Merging ovweview and genre__"
   ]
  },
  {
   "cell_type": "code",
   "execution_count": 107,
   "id": "a61ff1f5",
   "metadata": {},
   "outputs": [
    {
     "name": "stdout",
     "output_type": "stream",
     "text": [
      "+------+--------------------+--------------------+\n",
      "|    id|               title|                tags|\n",
      "+------+--------------------+--------------------+\n",
      "|   278|The Shawshank Red...|Framed in the 194...|\n",
      "| 19404|Dilwale Dulhania ...|Raj is a rich, ca...|\n",
      "|   238|       The Godfather|Spanning the year...|\n",
      "|   424|    Schindler's List|The true story of...|\n",
      "|   240|The Godfather: Pa...|In the continuing...|\n",
      "|667257|   Impossible Things|Matilde is a woma...|\n",
      "|   129|       Spirited Away|A young girl, Chi...|\n",
      "|730154|      Your Eyes Tell|A tragic accident...|\n",
      "|372754|Dou kyu sei – Cla...|Rihito Sajo, an h...|\n",
      "|372058|          Your Name.|High schoolers Mi...|\n",
      "|   389|        12 Angry Men|The defense and t...|\n",
      "|696374|   Gabriel's Inferno|An intriguing and...|\n",
      "|496243|            Parasite|All unemployed, K...|\n",
      "|   497|      The Green Mile|A supernatural ta...|\n",
      "|724089|Gabriel's Inferno...|Professor Gabriel...|\n",
      "|   155|     The Dark Knight|Batman raises the...|\n",
      "|   429|The Good, the Bad...|While the Civil W...|\n",
      "|   680|        Pulp Fiction|A burger-loving h...|\n",
      "|   122|The Lord of the R...|Aragorn is reveal...|\n",
      "|761053|Gabriel's Inferno...|The final part of...|\n",
      "+------+--------------------+--------------------+\n",
      "only showing top 20 rows\n",
      "\n"
     ]
    }
   ],
   "source": [
    "from pyspark.sql.functions import concat\n",
    "new_data = movies.select('id', 'title', concat(movies.overview, movies.genre).alias(\"tags\"))\n",
    "new_data.show()"
   ]
  },
  {
   "cell_type": "markdown",
   "id": "95e8e4d1",
   "metadata": {},
   "source": [
    "__Casting id to integer__"
   ]
  },
  {
   "cell_type": "code",
   "execution_count": 108,
   "id": "8b37d821",
   "metadata": {},
   "outputs": [],
   "source": [
    "new_data = new_data.withColumn(\"id\", new_data.id.cast(\"Integer\"))"
   ]
  },
  {
   "cell_type": "markdown",
   "id": "5dae8f4a",
   "metadata": {},
   "source": [
    "__Displaying new dataset__"
   ]
  },
  {
   "cell_type": "code",
   "execution_count": 109,
   "id": "c076bb5f",
   "metadata": {},
   "outputs": [
    {
     "name": "stdout",
     "output_type": "stream",
     "text": [
      "+------+--------------------+--------------------+\n",
      "|    id|               title|                tags|\n",
      "+------+--------------------+--------------------+\n",
      "|   278|The Shawshank Red...|Framed in the 194...|\n",
      "| 19404|Dilwale Dulhania ...|Raj is a rich, ca...|\n",
      "|   238|       The Godfather|Spanning the year...|\n",
      "|   424|    Schindler's List|The true story of...|\n",
      "|   240|The Godfather: Pa...|In the continuing...|\n",
      "|667257|   Impossible Things|Matilde is a woma...|\n",
      "|   129|       Spirited Away|A young girl, Chi...|\n",
      "|730154|      Your Eyes Tell|A tragic accident...|\n",
      "|372754|Dou kyu sei – Cla...|Rihito Sajo, an h...|\n",
      "|372058|          Your Name.|High schoolers Mi...|\n",
      "|   389|        12 Angry Men|The defense and t...|\n",
      "|696374|   Gabriel's Inferno|An intriguing and...|\n",
      "|496243|            Parasite|All unemployed, K...|\n",
      "|   497|      The Green Mile|A supernatural ta...|\n",
      "|724089|Gabriel's Inferno...|Professor Gabriel...|\n",
      "|   155|     The Dark Knight|Batman raises the...|\n",
      "|   429|The Good, the Bad...|While the Civil W...|\n",
      "|   680|        Pulp Fiction|A burger-loving h...|\n",
      "|   122|The Lord of the R...|Aragorn is reveal...|\n",
      "|761053|Gabriel's Inferno...|The final part of...|\n",
      "+------+--------------------+--------------------+\n",
      "only showing top 20 rows\n",
      "\n"
     ]
    }
   ],
   "source": [
    "new_data.show()"
   ]
  },
  {
   "cell_type": "markdown",
   "id": "93d688f5",
   "metadata": {},
   "source": [
    "__Converting the new dataset to pandas dataframe__"
   ]
  },
  {
   "cell_type": "code",
   "execution_count": 110,
   "id": "9c314a93",
   "metadata": {},
   "outputs": [],
   "source": [
    "final_df = new_data.toPandas()"
   ]
  },
  {
   "cell_type": "markdown",
   "id": "afd7fc03",
   "metadata": {},
   "source": [
    "__Checking the type of 'tags' column__"
   ]
  },
  {
   "cell_type": "code",
   "execution_count": 111,
   "id": "0270b843",
   "metadata": {},
   "outputs": [
    {
     "data": {
      "text/plain": [
       "str"
      ]
     },
     "execution_count": 111,
     "metadata": {},
     "output_type": "execute_result"
    }
   ],
   "source": [
    "type(final_df[\"tags\"][0])"
   ]
  },
  {
   "cell_type": "markdown",
   "id": "d3706a47",
   "metadata": {},
   "source": [
    "### 4. Natural Language Processing(NLP)"
   ]
  },
  {
   "cell_type": "markdown",
   "id": "ae037266",
   "metadata": {},
   "source": [
    "__Importing nlp libraries__"
   ]
  },
  {
   "cell_type": "code",
   "execution_count": 112,
   "id": "b8df067d",
   "metadata": {},
   "outputs": [],
   "source": [
    "import nltk\n",
    "from nltk.tokenize import word_tokenize \n",
    "from nltk.corpus import stopwords\n",
    "from nltk.stem import WordNetLemmatizer\n",
    "from sklearn.feature_extraction.text import CountVectorizer"
   ]
  },
  {
   "cell_type": "markdown",
   "id": "21fa75dc",
   "metadata": {},
   "source": [
    "__Tokenize the words in each line of 'tags'__"
   ]
  },
  {
   "cell_type": "code",
   "execution_count": 113,
   "id": "eacd0434",
   "metadata": {},
   "outputs": [],
   "source": [
    "tokens = []\n",
    "for i in range(len(final_df)):\n",
    "    tokens.append(word_tokenize(str(final_df[\"tags\"][i])))"
   ]
  },
  {
   "cell_type": "markdown",
   "id": "b94f7d24",
   "metadata": {},
   "source": [
    "__First row of 'tags' column__"
   ]
  },
  {
   "cell_type": "code",
   "execution_count": 114,
   "id": "d384abb8",
   "metadata": {
    "scrolled": true
   },
   "outputs": [
    {
     "data": {
      "text/plain": [
       "['Framed',\n",
       " 'in',\n",
       " 'the',\n",
       " '1940s',\n",
       " 'for',\n",
       " 'the',\n",
       " 'double',\n",
       " 'murder',\n",
       " 'of',\n",
       " 'his',\n",
       " 'wife',\n",
       " 'and',\n",
       " 'her',\n",
       " 'lover',\n",
       " ',',\n",
       " 'upstanding',\n",
       " 'banker',\n",
       " 'Andy',\n",
       " 'Dufresne',\n",
       " 'begins',\n",
       " 'a',\n",
       " 'new',\n",
       " 'life',\n",
       " 'at',\n",
       " 'the',\n",
       " 'Shawshank',\n",
       " 'prison',\n",
       " ',',\n",
       " 'where',\n",
       " 'he',\n",
       " 'puts',\n",
       " 'his',\n",
       " 'accounting',\n",
       " 'skills',\n",
       " 'to',\n",
       " 'work',\n",
       " 'for',\n",
       " 'an',\n",
       " 'amoral',\n",
       " 'warden',\n",
       " '.',\n",
       " 'During',\n",
       " 'his',\n",
       " 'long',\n",
       " 'stretch',\n",
       " 'in',\n",
       " 'prison',\n",
       " ',',\n",
       " 'Dufresne',\n",
       " 'comes',\n",
       " 'to',\n",
       " 'be',\n",
       " 'admired',\n",
       " 'by',\n",
       " 'the',\n",
       " 'other',\n",
       " 'inmates',\n",
       " '--',\n",
       " 'including',\n",
       " 'an',\n",
       " 'older',\n",
       " 'prisoner',\n",
       " 'named',\n",
       " 'Red',\n",
       " '--',\n",
       " 'for',\n",
       " 'his',\n",
       " 'integrity',\n",
       " 'and',\n",
       " 'unquenchable',\n",
       " 'sense',\n",
       " 'of',\n",
       " 'hope.Drama',\n",
       " ',',\n",
       " 'Crime']"
      ]
     },
     "execution_count": 114,
     "metadata": {},
     "output_type": "execute_result"
    }
   ],
   "source": [
    "tokens[0]"
   ]
  },
  {
   "cell_type": "markdown",
   "id": "4af2f10c",
   "metadata": {},
   "source": [
    "__Making a stopword list and extending some extra characters present in tags__"
   ]
  },
  {
   "cell_type": "code",
   "execution_count": 115,
   "id": "53dd4ab0",
   "metadata": {},
   "outputs": [],
   "source": [
    "stopwordsList = stopwords.words(\"english\")\n",
    "stopwordsList.extend([',','.','-','--','!'])"
   ]
  },
  {
   "cell_type": "markdown",
   "id": "e7eb7916",
   "metadata": {},
   "source": [
    "__Removing stopwords__"
   ]
  },
  {
   "cell_type": "code",
   "execution_count": 116,
   "id": "8fe0ce53",
   "metadata": {},
   "outputs": [
    {
     "data": {
      "text/plain": [
       "['framed',\n",
       " '1940s',\n",
       " 'double',\n",
       " 'murder',\n",
       " 'wife',\n",
       " 'lover',\n",
       " 'upstanding',\n",
       " 'banker',\n",
       " 'andy',\n",
       " 'dufresne',\n",
       " 'begins',\n",
       " 'new',\n",
       " 'life',\n",
       " 'shawshank',\n",
       " 'prison',\n",
       " 'puts',\n",
       " 'accounting',\n",
       " 'skills',\n",
       " 'work',\n",
       " 'amoral',\n",
       " 'warden',\n",
       " 'long',\n",
       " 'stretch',\n",
       " 'prison',\n",
       " 'dufresne',\n",
       " 'comes',\n",
       " 'admired',\n",
       " 'inmates',\n",
       " 'including',\n",
       " 'older',\n",
       " 'prisoner',\n",
       " 'named',\n",
       " 'red',\n",
       " 'integrity',\n",
       " 'unquenchable',\n",
       " 'sense',\n",
       " 'hope.drama',\n",
       " 'crime']"
      ]
     },
     "execution_count": 116,
     "metadata": {},
     "output_type": "execute_result"
    }
   ],
   "source": [
    "wordList=[]\n",
    "for tokenList in tokens:\n",
    "    words=[]\n",
    "    for word in tokenList:\n",
    "        if word.lower() not in stopwordsList:\n",
    "            words.append(word.lower())\n",
    "            \n",
    "    wordList.append(words)\n",
    "\n",
    "wordList[0]"
   ]
  },
  {
   "cell_type": "markdown",
   "id": "0033449a",
   "metadata": {},
   "source": [
    "__Lemmatizing verbs to their first form__"
   ]
  },
  {
   "cell_type": "code",
   "execution_count": 117,
   "id": "c73cf8b2",
   "metadata": {},
   "outputs": [
    {
     "data": {
      "text/plain": [
       "['frame',\n",
       " '1940s',\n",
       " 'double',\n",
       " 'murder',\n",
       " 'wife',\n",
       " 'lover',\n",
       " 'upstanding',\n",
       " 'banker',\n",
       " 'andy',\n",
       " 'dufresne',\n",
       " 'begin',\n",
       " 'new',\n",
       " 'life',\n",
       " 'shawshank',\n",
       " 'prison',\n",
       " 'put',\n",
       " 'account',\n",
       " 'skills',\n",
       " 'work',\n",
       " 'amoral',\n",
       " 'warden',\n",
       " 'long',\n",
       " 'stretch',\n",
       " 'prison',\n",
       " 'dufresne',\n",
       " 'come',\n",
       " 'admire',\n",
       " 'inmates',\n",
       " 'include',\n",
       " 'older',\n",
       " 'prisoner',\n",
       " 'name',\n",
       " 'red',\n",
       " 'integrity',\n",
       " 'unquenchable',\n",
       " 'sense',\n",
       " 'hope.drama',\n",
       " 'crime']"
      ]
     },
     "execution_count": 117,
     "metadata": {},
     "output_type": "execute_result"
    }
   ],
   "source": [
    "wnet=WordNetLemmatizer()\n",
    "\n",
    "for i in range(len(wordList)):\n",
    "    for j in range(len(wordList[i])):\n",
    "        wordList[i][j]=wnet.lemmatize(wordList[i][j],pos='v')\n",
    "        \n",
    "wordList[0]"
   ]
  },
  {
   "cell_type": "markdown",
   "id": "8813c038",
   "metadata": {},
   "source": [
    "__Joining tokens back to form a string__"
   ]
  },
  {
   "cell_type": "code",
   "execution_count": 118,
   "id": "eafe1b29",
   "metadata": {},
   "outputs": [],
   "source": [
    "for i in range(len(tokens)):\n",
    "    tokens[i]=' '.join(wordList[i])"
   ]
  },
  {
   "cell_type": "markdown",
   "id": "49eb8f4b",
   "metadata": {},
   "source": [
    "__Displaying processed tags__"
   ]
  },
  {
   "cell_type": "code",
   "execution_count": 119,
   "id": "483ae888",
   "metadata": {},
   "outputs": [
    {
     "data": {
      "text/plain": [
       "'frame 1940s double murder wife lover upstanding banker andy dufresne begin new life shawshank prison put account skills work amoral warden long stretch prison dufresne come admire inmates include older prisoner name red integrity unquenchable sense hope.drama crime'"
      ]
     },
     "execution_count": 119,
     "metadata": {},
     "output_type": "execute_result"
    }
   ],
   "source": [
    "tokens[0]"
   ]
  },
  {
   "cell_type": "markdown",
   "id": "6b8a7753",
   "metadata": {},
   "source": [
    "__Forming Countvector__"
   ]
  },
  {
   "cell_type": "code",
   "execution_count": 120,
   "id": "92b56d31",
   "metadata": {},
   "outputs": [],
   "source": [
    "cv = CountVectorizer(max_features=10005)"
   ]
  },
  {
   "cell_type": "markdown",
   "id": "28710c7b",
   "metadata": {},
   "source": [
    "__Transforming tokens__"
   ]
  },
  {
   "cell_type": "code",
   "execution_count": 121,
   "id": "db299acd",
   "metadata": {},
   "outputs": [],
   "source": [
    "vector=cv.fit_transform(tokens).toarray()"
   ]
  },
  {
   "cell_type": "markdown",
   "id": "b1c0cb68",
   "metadata": {},
   "source": [
    "__Dispalying vector array__"
   ]
  },
  {
   "cell_type": "code",
   "execution_count": 122,
   "id": "4af35f17",
   "metadata": {},
   "outputs": [
    {
     "data": {
      "text/plain": [
       "array([[0, 0, 0, ..., 0, 0, 0],\n",
       "       [0, 0, 0, ..., 0, 0, 0],\n",
       "       [0, 0, 0, ..., 0, 0, 0],\n",
       "       ...,\n",
       "       [0, 0, 0, ..., 0, 0, 0],\n",
       "       [0, 0, 0, ..., 0, 0, 0],\n",
       "       [0, 0, 0, ..., 0, 0, 0]])"
      ]
     },
     "execution_count": 122,
     "metadata": {},
     "output_type": "execute_result"
    }
   ],
   "source": [
    "vector"
   ]
  },
  {
   "cell_type": "markdown",
   "id": "084d34ce",
   "metadata": {},
   "source": [
    "__Shape of vector__"
   ]
  },
  {
   "cell_type": "code",
   "execution_count": 123,
   "id": "9dd22598",
   "metadata": {},
   "outputs": [
    {
     "data": {
      "text/plain": [
       "(10005, 10005)"
      ]
     },
     "execution_count": 123,
     "metadata": {},
     "output_type": "execute_result"
    }
   ],
   "source": [
    "vector.shape"
   ]
  },
  {
   "cell_type": "markdown",
   "id": "6e91e7d4",
   "metadata": {},
   "source": [
    "### 5. Similarity calculation"
   ]
  },
  {
   "cell_type": "markdown",
   "id": "5116c481",
   "metadata": {},
   "source": [
    "__Importing cosine similarity__"
   ]
  },
  {
   "cell_type": "code",
   "execution_count": 124,
   "id": "60749bde",
   "metadata": {},
   "outputs": [],
   "source": [
    "from sklearn.metrics.pairwise import cosine_similarity"
   ]
  },
  {
   "cell_type": "markdown",
   "id": "2b48884a",
   "metadata": {},
   "source": [
    "__Calculating similarity of each movie with every movie__"
   ]
  },
  {
   "cell_type": "code",
   "execution_count": 125,
   "id": "33c1e89e",
   "metadata": {},
   "outputs": [],
   "source": [
    "similarity=cosine_similarity(vector)"
   ]
  },
  {
   "cell_type": "markdown",
   "id": "4104982a",
   "metadata": {},
   "source": [
    "__Displaying similarity matrix__"
   ]
  },
  {
   "cell_type": "code",
   "execution_count": 126,
   "id": "5c445ee0",
   "metadata": {},
   "outputs": [
    {
     "data": {
      "text/plain": [
       "array([[1.        , 0.05143445, 0.1228683 , ..., 0.06666667, 0.10660036,\n",
       "        0.06299408],\n",
       "       [0.05143445, 1.        , 0.06825236, ..., 0.        , 0.03289758,\n",
       "        0.        ],\n",
       "       [0.1228683 , 0.06825236, 1.        , ..., 0.02948839, 0.06286946,\n",
       "        0.08359173],\n",
       "       ...,\n",
       "       [0.06666667, 0.        , 0.02948839, ..., 1.        , 0.08528029,\n",
       "        0.03779645],\n",
       "       [0.10660036, 0.03289758, 0.06286946, ..., 0.08528029, 1.        ,\n",
       "        0.04029115],\n",
       "       [0.06299408, 0.        , 0.08359173, ..., 0.03779645, 0.04029115,\n",
       "        1.        ]])"
      ]
     },
     "execution_count": 126,
     "metadata": {},
     "output_type": "execute_result"
    }
   ],
   "source": [
    "similarity"
   ]
  },
  {
   "cell_type": "markdown",
   "id": "72be57b0",
   "metadata": {},
   "source": [
    "### 6. Recommendation function"
   ]
  },
  {
   "cell_type": "code",
   "execution_count": 127,
   "id": "676f7402",
   "metadata": {},
   "outputs": [],
   "source": [
    "def recommend(movies):\n",
    "    index=final_df[final_df['title']==movies].index[0]\n",
    "    distance = sorted(list(enumerate(similarity[index])), reverse=True, key=lambda vector:vector[1])\n",
    "    for i in distance[1:11]:\n",
    "        print(final_df.iloc[i[0]].title)"
   ]
  },
  {
   "cell_type": "markdown",
   "id": "fbf5d793",
   "metadata": {},
   "source": [
    "__Checking for custom input__"
   ]
  },
  {
   "cell_type": "code",
   "execution_count": 128,
   "id": "ad47a6e0",
   "metadata": {},
   "outputs": [
    {
     "name": "stdout",
     "output_type": "stream",
     "text": [
      "Avengers: Infinity War\n",
      "Replicant\n",
      "Justice League Dark: Apokolips War\n",
      "Captain Marvel\n",
      "Next Avengers: Heroes of Tomorrow\n",
      "Dragon Ball Z: The Return of Cooler\n",
      "Valerian and the City of a Thousand Planets\n",
      "Star Wars: The Rise of Skywalker\n",
      "Guardians of the Galaxy Vol. 2\n",
      "Batman: Gotham Knight\n"
     ]
    }
   ],
   "source": [
    "recommend(\"Avengers: Endgame\")"
   ]
  },
  {
   "cell_type": "markdown",
   "id": "9fbcec16",
   "metadata": {},
   "source": [
    "### 7. Storing files "
   ]
  },
  {
   "cell_type": "code",
   "execution_count": 129,
   "id": "d352f7b5",
   "metadata": {},
   "outputs": [],
   "source": [
    "import pickle"
   ]
  },
  {
   "cell_type": "markdown",
   "id": "6fbb97dd",
   "metadata": {},
   "source": [
    "__Storing movies list__"
   ]
  },
  {
   "cell_type": "code",
   "execution_count": 130,
   "id": "a5e3b4f8",
   "metadata": {},
   "outputs": [],
   "source": [
    "pickle.dump(final_df, open('movies_list.pkl', 'wb'))"
   ]
  },
  {
   "cell_type": "markdown",
   "id": "463fd4c0",
   "metadata": {},
   "source": [
    "__Storing similarities__"
   ]
  },
  {
   "cell_type": "code",
   "execution_count": 131,
   "id": "58ff4e24",
   "metadata": {},
   "outputs": [],
   "source": [
    "pickle.dump(similarity, open('similarity.pkl', 'wb'))"
   ]
  },
  {
   "cell_type": "markdown",
   "id": "07e3dd16",
   "metadata": {},
   "source": [
    "__Loading stored files__"
   ]
  },
  {
   "cell_type": "code",
   "execution_count": 132,
   "id": "08652b52",
   "metadata": {},
   "outputs": [
    {
     "data": {
      "text/plain": [
       "array([[1.        , 0.05143445, 0.1228683 , ..., 0.06666667, 0.10660036,\n",
       "        0.06299408],\n",
       "       [0.05143445, 1.        , 0.06825236, ..., 0.        , 0.03289758,\n",
       "        0.        ],\n",
       "       [0.1228683 , 0.06825236, 1.        , ..., 0.02948839, 0.06286946,\n",
       "        0.08359173],\n",
       "       ...,\n",
       "       [0.06666667, 0.        , 0.02948839, ..., 1.        , 0.08528029,\n",
       "        0.03779645],\n",
       "       [0.10660036, 0.03289758, 0.06286946, ..., 0.08528029, 1.        ,\n",
       "        0.04029115],\n",
       "       [0.06299408, 0.        , 0.08359173, ..., 0.03779645, 0.04029115,\n",
       "        1.        ]])"
      ]
     },
     "execution_count": 132,
     "metadata": {},
     "output_type": "execute_result"
    }
   ],
   "source": [
    "pickle.load(open('similarity.pkl', 'rb'))"
   ]
  },
  {
   "cell_type": "code",
   "execution_count": 133,
   "id": "c03eb47b",
   "metadata": {},
   "outputs": [
    {
     "data": {
      "text/html": [
       "<div>\n",
       "<style scoped>\n",
       "    .dataframe tbody tr th:only-of-type {\n",
       "        vertical-align: middle;\n",
       "    }\n",
       "\n",
       "    .dataframe tbody tr th {\n",
       "        vertical-align: top;\n",
       "    }\n",
       "\n",
       "    .dataframe thead th {\n",
       "        text-align: right;\n",
       "    }\n",
       "</style>\n",
       "<table border=\"1\" class=\"dataframe\">\n",
       "  <thead>\n",
       "    <tr style=\"text-align: right;\">\n",
       "      <th></th>\n",
       "      <th>id</th>\n",
       "      <th>title</th>\n",
       "      <th>tags</th>\n",
       "    </tr>\n",
       "  </thead>\n",
       "  <tbody>\n",
       "    <tr>\n",
       "      <th>0</th>\n",
       "      <td>278.0</td>\n",
       "      <td>The Shawshank Redemption</td>\n",
       "      <td>Framed in the 1940s for the double murder of h...</td>\n",
       "    </tr>\n",
       "    <tr>\n",
       "      <th>1</th>\n",
       "      <td>19404.0</td>\n",
       "      <td>Dilwale Dulhania Le Jayenge</td>\n",
       "      <td>Raj is a rich, carefree, happy-go-lucky second...</td>\n",
       "    </tr>\n",
       "    <tr>\n",
       "      <th>2</th>\n",
       "      <td>238.0</td>\n",
       "      <td>The Godfather</td>\n",
       "      <td>Spanning the years 1945 to 1955, a chronicle o...</td>\n",
       "    </tr>\n",
       "    <tr>\n",
       "      <th>3</th>\n",
       "      <td>424.0</td>\n",
       "      <td>Schindler's List</td>\n",
       "      <td>The true story of how businessman Oskar Schind...</td>\n",
       "    </tr>\n",
       "    <tr>\n",
       "      <th>4</th>\n",
       "      <td>240.0</td>\n",
       "      <td>The Godfather: Part II</td>\n",
       "      <td>In the continuing saga of the Corleone crime f...</td>\n",
       "    </tr>\n",
       "    <tr>\n",
       "      <th>...</th>\n",
       "      <td>...</td>\n",
       "      <td>...</td>\n",
       "      <td>...</td>\n",
       "    </tr>\n",
       "    <tr>\n",
       "      <th>10000</th>\n",
       "      <td>10196.0</td>\n",
       "      <td>The Last Airbender</td>\n",
       "      <td>The story follows the adventures of Aang, a yo...</td>\n",
       "    </tr>\n",
       "    <tr>\n",
       "      <th>10001</th>\n",
       "      <td>331446.0</td>\n",
       "      <td>Sharknado 3: Oh Hell No!</td>\n",
       "      <td>The sharks take bite out of the East Coast whe...</td>\n",
       "    </tr>\n",
       "    <tr>\n",
       "      <th>10002</th>\n",
       "      <td>13995.0</td>\n",
       "      <td>Captain America</td>\n",
       "      <td>\"During World War II, a brave, patriotic Ameri...</td>\n",
       "    </tr>\n",
       "    <tr>\n",
       "      <th>10003</th>\n",
       "      <td>2312.0</td>\n",
       "      <td>In the Name of the King: A Dungeon Siege Tale</td>\n",
       "      <td>A man named Farmer sets out to rescue his kidn...</td>\n",
       "    </tr>\n",
       "    <tr>\n",
       "      <th>10004</th>\n",
       "      <td>455957.0</td>\n",
       "      <td>Domino</td>\n",
       "      <td>Seeking justice for his partner’s murder by an...</td>\n",
       "    </tr>\n",
       "  </tbody>\n",
       "</table>\n",
       "<p>10005 rows × 3 columns</p>\n",
       "</div>"
      ],
      "text/plain": [
       "             id                                          title  \\\n",
       "0         278.0                       The Shawshank Redemption   \n",
       "1       19404.0                    Dilwale Dulhania Le Jayenge   \n",
       "2         238.0                                  The Godfather   \n",
       "3         424.0                               Schindler's List   \n",
       "4         240.0                         The Godfather: Part II   \n",
       "...         ...                                            ...   \n",
       "10000   10196.0                             The Last Airbender   \n",
       "10001  331446.0                       Sharknado 3: Oh Hell No!   \n",
       "10002   13995.0                                Captain America   \n",
       "10003    2312.0  In the Name of the King: A Dungeon Siege Tale   \n",
       "10004  455957.0                                         Domino   \n",
       "\n",
       "                                                    tags  \n",
       "0      Framed in the 1940s for the double murder of h...  \n",
       "1      Raj is a rich, carefree, happy-go-lucky second...  \n",
       "2      Spanning the years 1945 to 1955, a chronicle o...  \n",
       "3      The true story of how businessman Oskar Schind...  \n",
       "4      In the continuing saga of the Corleone crime f...  \n",
       "...                                                  ...  \n",
       "10000  The story follows the adventures of Aang, a yo...  \n",
       "10001  The sharks take bite out of the East Coast whe...  \n",
       "10002  \"During World War II, a brave, patriotic Ameri...  \n",
       "10003  A man named Farmer sets out to rescue his kidn...  \n",
       "10004  Seeking justice for his partner’s murder by an...  \n",
       "\n",
       "[10005 rows x 3 columns]"
      ]
     },
     "execution_count": 133,
     "metadata": {},
     "output_type": "execute_result"
    }
   ],
   "source": [
    "pickle.load(open('movies_list.pkl', 'rb'))"
   ]
  },
  {
   "cell_type": "code",
   "execution_count": null,
   "id": "98c1cb9a",
   "metadata": {},
   "outputs": [],
   "source": []
  },
  {
   "cell_type": "code",
   "execution_count": null,
   "id": "6b279e13",
   "metadata": {},
   "outputs": [],
   "source": []
  }
 ],
 "metadata": {
  "kernelspec": {
   "display_name": "Python 3 (ipykernel)",
   "language": "python",
   "name": "python3"
  },
  "language_info": {
   "codemirror_mode": {
    "name": "ipython",
    "version": 3
   },
   "file_extension": ".py",
   "mimetype": "text/x-python",
   "name": "python",
   "nbconvert_exporter": "python",
   "pygments_lexer": "ipython3",
   "version": "3.9.12"
  }
 },
 "nbformat": 4,
 "nbformat_minor": 5
}
